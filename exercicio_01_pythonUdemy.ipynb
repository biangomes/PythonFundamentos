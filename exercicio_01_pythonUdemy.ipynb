{
  "nbformat": 4,
  "nbformat_minor": 0,
  "metadata": {
    "colab": {
      "name": "exercicio-01-pythonUdemy.ipynb",
      "provenance": [],
      "authorship_tag": "ABX9TyMdcdtXxXlBJmJ8yGHHFWTz",
      "include_colab_link": true
    },
    "kernelspec": {
      "name": "python3",
      "display_name": "Python 3"
    }
  },
  "cells": [
    {
      "cell_type": "markdown",
      "metadata": {
        "id": "view-in-github",
        "colab_type": "text"
      },
      "source": [
        "<a href=\"https://colab.research.google.com/github/biangomes/PythonFundamentos/blob/master/exercicio_01_pythonUdemy.ipynb\" target=\"_parent\"><img src=\"https://colab.research.google.com/assets/colab-badge.svg\" alt=\"Open In Colab\"/></a>"
      ]
    },
    {
      "cell_type": "code",
      "metadata": {
        "id": "2HrjUsHcyxbF",
        "colab_type": "code",
        "colab": {
          "base_uri": "https://localhost:8080/",
          "height": 34
        },
        "outputId": "7a450b6c-25c1-4cfe-c0ac-ddadef500766"
      },
      "source": [
        "import math\n",
        "math.pow(7, 4)"
      ],
      "execution_count": 2,
      "outputs": [
        {
          "output_type": "execute_result",
          "data": {
            "text/plain": [
              "2401.0"
            ]
          },
          "metadata": {
            "tags": []
          },
          "execution_count": 2
        }
      ]
    },
    {
      "cell_type": "code",
      "metadata": {
        "id": "6au2CyLmNnZp",
        "colab_type": "code",
        "colab": {
          "base_uri": "https://localhost:8080/",
          "height": 34
        },
        "outputId": "12cda2dd-2f32-492f-c2b3-0c90df3c5311"
      },
      "source": [
        "s = \"Olá, Pai!\"\n",
        "s.split()"
      ],
      "execution_count": 3,
      "outputs": [
        {
          "output_type": "execute_result",
          "data": {
            "text/plain": [
              "['Olá,', 'Pai!']"
            ]
          },
          "metadata": {
            "tags": []
          },
          "execution_count": 3
        }
      ]
    },
    {
      "cell_type": "code",
      "metadata": {
        "id": "mgivwFvtOQ1f",
        "colab_type": "code",
        "colab": {
          "base_uri": "https://localhost:8080/",
          "height": 34
        },
        "outputId": "a2e5e872-4e42-4714-cac1-e19ee84777ca"
      },
      "source": [
        "planeta = \"Terra\"\n",
        "diametro = 12742\n",
        "galaxia = \"Via Láctea\"\n",
        "\n",
        "print(\"O planeta {0} possui diâmetro igual a {1} quilômetros e fica na {2}.\".format(planeta, diametro, galaxia))"
      ],
      "execution_count": 5,
      "outputs": [
        {
          "output_type": "stream",
          "text": [
            "O planeta Terra possui diâmetro igual a 12742 quilômetros e fica na Via Láctea.\n"
          ],
          "name": "stdout"
        }
      ]
    },
    {
      "cell_type": "code",
      "metadata": {
        "id": "cgUuyaOqOWs4",
        "colab_type": "code",
        "colab": {}
      },
      "source": [
        "lst = [1, 2, [3, 4], [5, [100, 200, ['olá']], 23, 11], 1, 7]"
      ],
      "execution_count": 6,
      "outputs": []
    },
    {
      "cell_type": "code",
      "metadata": {
        "id": "HecHzNb55SBp",
        "colab_type": "code",
        "colab": {
          "base_uri": "https://localhost:8080/",
          "height": 34
        },
        "outputId": "1e8bbd18-10f9-46ed-aeb0-916291d8d213"
      },
      "source": [
        "lst[3][1][2]"
      ],
      "execution_count": 9,
      "outputs": [
        {
          "output_type": "execute_result",
          "data": {
            "text/plain": [
              "['olá']"
            ]
          },
          "metadata": {
            "tags": []
          },
          "execution_count": 9
        }
      ]
    },
    {
      "cell_type": "code",
      "metadata": {
        "id": "F1TiNIFq5eMI",
        "colab_type": "code",
        "colab": {}
      },
      "source": [
        "d = {'k1':[1,2,3,{'café':['banana','mulher','colher',{'alvo':[1,2,3,'olá']}]}]}"
      ],
      "execution_count": 10,
      "outputs": []
    },
    {
      "cell_type": "code",
      "metadata": {
        "id": "RhMWx_BF5fiv",
        "colab_type": "code",
        "colab": {
          "base_uri": "https://localhost:8080/",
          "height": 35
        },
        "outputId": "ae69102e-08fa-4965-fd13-34009af488ea"
      },
      "source": [
        "d['k1'][3]['café'][3]['alvo'][3]"
      ],
      "execution_count": 16,
      "outputs": [
        {
          "output_type": "execute_result",
          "data": {
            "application/vnd.google.colaboratory.intrinsic+json": {
              "type": "string"
            },
            "text/plain": [
              "'olá'"
            ]
          },
          "metadata": {
            "tags": []
          },
          "execution_count": 16
        }
      ]
    },
    {
      "cell_type": "code",
      "metadata": {
        "id": "b1nGlF_65tQh",
        "colab_type": "code",
        "colab": {
          "base_uri": "https://localhost:8080/",
          "height": 35
        },
        "outputId": "0bae3a9b-0322-4a9e-a00f-33a68057cd2a"
      },
      "source": [
        "def dominio(email):\n",
        "  s = email.split('@')[-1]\n",
        "  return s\n",
        "\n",
        "dominio(\"biangomes0707@gmail.com\")"
      ],
      "execution_count": 17,
      "outputs": [
        {
          "output_type": "execute_result",
          "data": {
            "application/vnd.google.colaboratory.intrinsic+json": {
              "type": "string"
            },
            "text/plain": [
              "'gmail.com'"
            ]
          },
          "metadata": {
            "tags": []
          },
          "execution_count": 17
        }
      ]
    },
    {
      "cell_type": "code",
      "metadata": {
        "id": "fWYrhk-J6iEA",
        "colab_type": "code",
        "colab": {
          "base_uri": "https://localhost:8080/",
          "height": 34
        },
        "outputId": "3fa51d32-a348-46ac-c5a7-6debf238fa2d"
      },
      "source": [
        "def encontrePalavra(palavra):\n",
        "  saida = \"cachorro\" in palavra.lower()\n",
        "  return saida\n",
        "\n",
        "encontrePalavra(\"Cão\")"
      ],
      "execution_count": 20,
      "outputs": [
        {
          "output_type": "execute_result",
          "data": {
            "text/plain": [
              "False"
            ]
          },
          "metadata": {
            "tags": []
          },
          "execution_count": 20
        }
      ]
    },
    {
      "cell_type": "code",
      "metadata": {
        "id": "Eia5p2jl60J4",
        "colab_type": "code",
        "colab": {
          "base_uri": "https://localhost:8080/",
          "height": 34
        },
        "outputId": "3c66f8f4-4bb4-468e-9265-3812bf56b3b8"
      },
      "source": [
        "def contePalavra(palavra):\n",
        "  count = 0\n",
        "  x = palavra.split()\n",
        "  for word in x:\n",
        "    if word == \"cachorro\":\n",
        "      count = count + 1\n",
        "  return x\n",
        "\n",
        "contePalavra(\"cachorro uma vez cachorro sempre cachorro\")"
      ],
      "execution_count": 35,
      "outputs": [
        {
          "output_type": "execute_result",
          "data": {
            "text/plain": [
              "['cachorro', 'uma', 'vez', 'cachorro', 'sempre', 'cachorro']"
            ]
          },
          "metadata": {
            "tags": []
          },
          "execution_count": 35
        }
      ]
    },
    {
      "cell_type": "code",
      "metadata": {
        "id": "cfgGcZKn-GlP",
        "colab_type": "code",
        "colab": {}
      },
      "source": [
        "seq = [\"sopa\", \"cachorro\", \"salada\", \"gato\", \"ótimo\"]"
      ],
      "execution_count": 36,
      "outputs": []
    },
    {
      "cell_type": "code",
      "metadata": {
        "id": "HjhUmNIC-Gev",
        "colab_type": "code",
        "colab": {
          "base_uri": "https://localhost:8080/",
          "height": 34
        },
        "outputId": "6ef08c39-14d8-4b4a-ab02-71bfadea7e4b"
      },
      "source": [
        "print(list(filter(lambda x: x[0] == \"s\", seq)))"
      ],
      "execution_count": 38,
      "outputs": [
        {
          "output_type": "stream",
          "text": [
            "['sopa', 'salada']\n"
          ],
          "name": "stdout"
        }
      ]
    },
    {
      "cell_type": "code",
      "metadata": {
        "id": "d_I6WVA7-QD-",
        "colab_type": "code",
        "colab": {}
      },
      "source": [
        ""
      ],
      "execution_count": null,
      "outputs": []
    }
  ]
}